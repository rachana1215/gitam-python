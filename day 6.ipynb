{
 "cells": [
  {
   "cell_type": "code",
   "execution_count": 1,
   "metadata": {},
   "outputs": [
    {
     "name": "stdout",
     "output_type": "stream",
     "text": [
      "enter number 112\n",
      "enter number 216\n",
      "enter number 310\n",
      "16 is the large number\n"
     ]
    }
   ],
   "source": [
    "#find the large number from the given 3 numbers\n",
    "a1=int(input(\"enter number 1\"))\n",
    "a2=int(input(\"enter number 2\"))\n",
    "a3=int(input(\"enter number 3\"))\n",
    "\n",
    "if a1>a2 and a1>a3:\n",
    "    print(a1,\"is the large number\")\n",
    "elif a2>a1 and a2>a3:\n",
    "    print(a2,\"is the large number\")\n",
    "else:\n",
    "    print(a3,\"is the large number\")\n",
    "    "
   ]
  },
  {
   "cell_type": "code",
   "execution_count": 3,
   "metadata": {},
   "outputs": [
    {
     "name": "stdout",
     "output_type": "stream",
     "text": [
      "enter a year 11998\n",
      "1998 is not a leap year\n"
     ]
    }
   ],
   "source": [
    "#check if a year is leap year or not   \n",
    "n1=int(input(\"enter a year 1\"))\n",
    "\n",
    "if(n1%4==0)or (n1%100==0 and n1%4==0):\n",
    "    print(n1,\"is a leap year\")\n",
    "else:\n",
    "    print(n1,\"is not a leap year\")"
   ]
  },
  {
   "cell_type": "markdown",
   "metadata": {},
   "source": [
    "### lteration\n",
    "- while\n",
    "- for\n",
    "\n",
    "syntax:\n",
    "      while boolean_condition:\n",
    "      statements\n",
    "      increment/decrement"
   ]
  },
  {
   "cell_type": "code",
   "execution_count": 4,
   "metadata": {},
   "outputs": [
    {
     "name": "stdout",
     "output_type": "stream",
     "text": [
      "gitam\n",
      "gitam\n",
      "gitam\n",
      "gitam\n",
      "gitam\n"
     ]
    }
   ],
   "source": [
    "# need print \"gitam\" for five times\n",
    "print(\"gitam\")\n",
    "print(\"gitam\")\n",
    "print(\"gitam\")\n",
    "print(\"gitam\")\n",
    "print(\"gitam\")"
   ]
  },
  {
   "cell_type": "code",
   "execution_count": 5,
   "metadata": {},
   "outputs": [
    {
     "name": "stdout",
     "output_type": "stream",
     "text": [
      "gitam\n",
      "gitam\n",
      "gitam\n",
      "gitam\n",
      "gitam\n"
     ]
    }
   ],
   "source": [
    "x = 0\n",
    "while x<5 :\n",
    "    print(\"gitam\")\n",
    "    x=x+1"
   ]
  },
  {
   "cell_type": "code",
   "execution_count": 3,
   "metadata": {},
   "outputs": [
    {
     "name": "stdout",
     "output_type": "stream",
     "text": [
      "enter a number10\n",
      "1 2 3 4 5 6 7 8 9 10 "
     ]
    }
   ],
   "source": [
    "#print n natural numbers using while loop\n",
    "n = int(input(\"enter a number\"))\n",
    "x = 1\n",
    "while x<=n:\n",
    "    print(x,end=\" \")\n",
    "    x=x+1"
   ]
  },
  {
   "cell_type": "code",
   "execution_count": 1,
   "metadata": {},
   "outputs": [
    {
     "name": "stdout",
     "output_type": "stream",
     "text": [
      "enter a number10\n",
      "30\n"
     ]
    }
   ],
   "source": [
    "# read a number-- n\n",
    "# add only evn numbers between 1to n\n",
    "# input -- 10\n",
    "# output -- 30(2+4+6+8+10)\n",
    "n=int(input(\"enter a number\"))\n",
    "i=1\n",
    "sum=0\n",
    "while i<=n:\n",
    "    if i%2==0:\n",
    "        sum=sum+i\n",
    "    i=i+1\n",
    "print(sum)"
   ]
  },
  {
   "cell_type": "code",
   "execution_count": 2,
   "metadata": {},
   "outputs": [
    {
     "name": "stdout",
     "output_type": "stream",
     "text": [
      "enter a number123\n",
      "3 2 1 "
     ]
    }
   ],
   "source": [
    "# number as a number -- 123\n",
    "#print the digits of given number :3 2 1\n",
    "n=int(input(\"enter a number\"))\n",
    "while n!=0:\n",
    "    r=n%10\n",
    "    print(r,end=\" \")\n",
    "    n=n//10"
   ]
  },
  {
   "cell_type": "markdown",
   "metadata": {},
   "source": [
    "### functional programming\n",
    "- single\n",
    "- easy read\n",
    "- lengthy program divides into sub programs"
   ]
  },
  {
   "cell_type": "code",
   "execution_count": 1,
   "metadata": {},
   "outputs": [
    {
     "ename": "SyntaxError",
     "evalue": "invalid syntax (<ipython-input-1-fe39e49ef3c6>, line 1)",
     "output_type": "error",
     "traceback": [
      "\u001b[1;36m  File \u001b[1;32m\"<ipython-input-1-fe39e49ef3c6>\"\u001b[1;36m, line \u001b[1;32m1\u001b[0m\n\u001b[1;33m    def nameofthefunction(<parameters>):\u001b[0m\n\u001b[1;37m                          ^\u001b[0m\n\u001b[1;31mSyntaxError\u001b[0m\u001b[1;31m:\u001b[0m invalid syntax\n"
     ]
    }
   ],
   "source": [
    "def nameofthefunction(<parameters>):\n",
    "    statement\n",
    "    return"
   ]
  },
  {
   "cell_type": "code",
   "execution_count": 4,
   "metadata": {},
   "outputs": [
    {
     "name": "stdout",
     "output_type": "stream",
     "text": [
      "6\n"
     ]
    }
   ],
   "source": [
    "#read a no-1234\n",
    "# output --6(2+4)\n",
    "def addEvenDigits(n):\n",
    "    sum=0\n",
    "    while n!=0:\n",
    "        r=n%10\n",
    "        if r%2==0:\n",
    "            sum=sum+r\n",
    "        n=n//10\n",
    "    print(sum)\n",
    "    return\n",
    "addEvenDigits(1234)"
   ]
  },
  {
   "cell_type": "code",
   "execution_count": 5,
   "metadata": {},
   "outputs": [
    {
     "data": {
      "text/plain": [
       "6"
      ]
     },
     "execution_count": 5,
     "metadata": {},
     "output_type": "execute_result"
    }
   ],
   "source": [
    "#read a no-1234\n",
    "# output --6(2+4)\n",
    "def addEvenDigits(n):\n",
    "    sum=0\n",
    "    while n!=0:\n",
    "        r=n%10\n",
    "        if r%2==0:\n",
    "            sum=sum+r\n",
    "        n=n//10\n",
    "    return sum\n",
    "addEvenDigits(1234)"
   ]
  },
  {
   "cell_type": "code",
   "execution_count": 8,
   "metadata": {},
   "outputs": [],
   "source": [
    "# read a number --19528\n",
    "#preant the large digit print the  number\n",
    "def printLarge(n):\n",
    "    return\n",
    "printLarge(19528)"
   ]
  }
 ],
 "metadata": {
  "kernelspec": {
   "display_name": "Python 3",
   "language": "python",
   "name": "python3"
  },
  "language_info": {
   "codemirror_mode": {
    "name": "ipython",
    "version": 3
   },
   "file_extension": ".py",
   "mimetype": "text/x-python",
   "name": "python",
   "nbconvert_exporter": "python",
   "pygments_lexer": "ipython3",
   "version": "3.7.0"
  }
 },
 "nbformat": 4,
 "nbformat_minor": 2
}
